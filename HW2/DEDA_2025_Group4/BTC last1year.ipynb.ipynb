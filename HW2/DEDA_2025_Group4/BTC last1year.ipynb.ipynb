{
 "cells": [
  {
   "metadata": {
    "ExecuteTime": {
     "end_time": "2025-07-11T02:29:54.771594Z",
     "start_time": "2025-07-11T02:29:51.905296Z"
    }
   },
   "cell_type": "code",
   "source": [
    "import pandas as pd\n",
    "import requests\n",
    "import plotly.express as px\n",
    "from dash import Dash, dcc, html\n",
    "from dash.dependencies import Input, Output\n",
    "\n",
    "# =========== 🚀 获取BTC历史价格数据 =============\n",
    "def get_btc_data(days=365):\n",
    "    url = \"https://api.coingecko.com/api/v3/coins/bitcoin/market_chart\"\n",
    "    params = {\n",
    "        \"vs_currency\": \"usd\",\n",
    "        \"days\": days,\n",
    "        \"interval\": \"daily\"\n",
    "    }\n",
    "    resp = requests.get(url, params=params)\n",
    "    data = resp.json()\n",
    "    prices = data['prices']\n",
    "    df = pd.DataFrame(prices, columns=['Timestamp', 'Price'])\n",
    "    df['Date'] = pd.to_datetime(df['Timestamp'], unit='ms')\n",
    "    return df[['Date', 'Price']]\n",
    "\n",
    "df = get_btc_data(365)\n",
    "\n",
    "# =========== 🚀 Dash 应用 =============\n",
    "app = Dash(__name__)\n",
    "\n",
    "app.layout = html.Div([\n",
    "    html.H1(\"比特币 (BTC) 最近一年历史价格滑动图\", style={\"textAlign\": \"center\"}),\n",
    "    dcc.Slider(\n",
    "        id='price-slider',\n",
    "        min=0,\n",
    "        max=len(df)-1,\n",
    "        step=1,\n",
    "        value=len(df)-1,\n",
    "        marks={i: df.iloc[i][\"Date\"].strftime(\"%m-%d\") for i in range(0, len(df), 30)},\n",
    "        tooltip={\"placement\": \"bottom\", \"always_visible\": False}\n",
    "    ),\n",
    "    dcc.Graph(id='btc-price-graph')\n",
    "])\n",
    "\n",
    "@app.callback(\n",
    "    Output('btc-price-graph', 'figure'),\n",
    "    Input('price-slider', 'value')\n",
    ")\n",
    "def update_graph(selected_index):\n",
    "    filtered_df = df.iloc[:selected_index+1]\n",
    "    fig = px.line(filtered_df, x='Date', y='Price', title='BTC 最近一年价格走势')\n",
    "    fig.update_traces(line_color='orange')\n",
    "    fig.update_layout(transition_duration=300)\n",
    "    return fig\n",
    "\n",
    "if __name__ == '__main__':\n",
    "    app.run(debug=True)\n"
   ],
   "id": "79fa49a3614a2d11",
   "outputs": [
    {
     "data": {
      "text/plain": [
       "<IPython.lib.display.IFrame at 0x265e9f91fd0>"
      ],
      "text/html": [
       "\n",
       "        <iframe\n",
       "            width=\"100%\"\n",
       "            height=\"650\"\n",
       "            src=\"http://127.0.0.1:8050/\"\n",
       "            frameborder=\"0\"\n",
       "            allowfullscreen\n",
       "            \n",
       "        ></iframe>\n",
       "        "
      ]
     },
     "metadata": {},
     "output_type": "display_data"
    }
   ],
   "execution_count": 1
  }
 ],
 "metadata": {
  "kernelspec": {
   "display_name": "Python 3",
   "language": "python",
   "name": "python3"
  },
  "language_info": {
   "codemirror_mode": {
    "name": "ipython",
    "version": 2
   },
   "file_extension": ".py",
   "mimetype": "text/x-python",
   "name": "python",
   "nbconvert_exporter": "python",
   "pygments_lexer": "ipython2",
   "version": "2.7.6"
  }
 },
 "nbformat": 4,
 "nbformat_minor": 5
}
