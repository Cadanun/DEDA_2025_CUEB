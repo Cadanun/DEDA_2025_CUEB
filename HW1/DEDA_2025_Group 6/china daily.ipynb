{
 "cells": [
  {
   "cell_type": "code",
   "execution_count": 2,
   "id": "b47ceb9f-5461-48cd-8db4-0bddb21c2bf8",
   "metadata": {},
   "outputs": [
    {
     "name": "stdout",
     "output_type": "stream",
     "text": [
      "Scraping section: /economy\n",
      "Found 20 potential news items in /economy\n",
      "Added 20 total items so far\n",
      "Scraping section: /companies\n",
      "Found 20 potential news items in /companies\n",
      "Added 40 total items so far\n",
      "Scraping section: /biz_industries\n",
      "Found 20 potential news items in /biz_industries\n",
      "Added 60 total items so far\n",
      "Scraping section: /tech\n",
      "Found 20 potential news items in /tech\n",
      "Added 80 total items so far\n",
      "Total unique news items found: 80\n",
      "Successfully scraped 80 news items.\n"
     ]
    }
   ],
   "source": [
    "import requests\n",
    "from bs4 import BeautifulSoup as bs\n",
    "import pandas as pd\n",
    "\n",
    "def get_chinadaily_news():\n",
    "    base_url = 'https://www.chinadaily.com.cn/business'\n",
    "    sections = [\n",
    "        '/economy',\n",
    "        '/companies',\n",
    "        '/biz_industries',\n",
    "        '/tech'\n",
    "    ]\n",
    "    all_news = []\n",
    "    for section in sections:\n",
    "        url = base_url + section\n",
    "        try:\n",
    "            print(f\"Scraping section: {section}\")\n",
    "            response = requests.get(url)\n",
    "            response.raise_for_status()\n",
    "            content = response.content\n",
    "            parsed_content = bs(content, 'html.parser')\n",
    "            news_items = parsed_content.find_all('div', class_=lambda x: x and (\n",
    "                'mb10' in x or \n",
    "                'box' in x or \n",
    "                'Block' in x or \n",
    "                'listBox' in x or \n",
    "                'leftBox' in x\n",
    "            ))\n",
    "            print(f\"Found {len(news_items)} potential news items in {section}\")\n",
    "            for item in news_items:\n",
    "                unit_info = {}\n",
    "                title_elem = item.find(['h3', 'h4', 'h2'])\n",
    "                if title_elem:\n",
    "                    title_link = title_elem.find('a', href=True)\n",
    "                    if title_link:\n",
    "                        news_title = title_link.text.strip()\n",
    "                        news_link = title_link['href'].strip()\n",
    "                        if news_link.startswith('//'):\n",
    "                            news_link = 'https:' + news_link\n",
    "                        elif not news_link.startswith('http'):\n",
    "                            news_link = base_url + news_link\n",
    "                        unit_info['title'] = news_title\n",
    "                        unit_info['link'] = news_link\n",
    "                        unit_info['section'] = section.replace('/', '')\n",
    "                        all_news.append(unit_info)\n",
    "            print(f\"Added {len(all_news)} total items so far\")        \n",
    "        except requests.exceptions.RequestException as e:\n",
    "            print(f\"Error fetching {url}: {e}\")\n",
    "    if all_news:\n",
    "        df = pd.DataFrame(all_news, columns=['title', 'link', 'section'])\n",
    "        df = df.drop_duplicates(subset=['link'])\n",
    "        print(f\"Total unique news items found: {len(df)}\")\n",
    "        df.to_csv('Chinadaily_All_News.csv', index=False)\n",
    "        return df\n",
    "    else:\n",
    "        print(\"No news found\")\n",
    "        return pd.DataFrame()\n",
    "if __name__ == '__main__':\n",
    "    news_df = get_chinadaily_news()\n",
    "    if not news_df.empty:\n",
    "        print(f\"Successfully scraped {len(news_df)} news items.\")"
   ]
  },
  {
   "cell_type": "code",
   "execution_count": null,
   "id": "cb0c9b55-6a99-41df-ab0c-56ba1a3b4de0",
   "metadata": {},
   "outputs": [],
   "source": []
  },
  {
   "cell_type": "code",
   "execution_count": null,
   "id": "080a41e5-9ede-4834-b431-79106c1a3ae2",
   "metadata": {},
   "outputs": [],
   "source": []
  }
 ],
 "metadata": {
  "kernelspec": {
   "display_name": "Python 3 (ipykernel)",
   "language": "python",
   "name": "python3"
  },
  "language_info": {
   "codemirror_mode": {
    "name": "ipython",
    "version": 3
   },
   "file_extension": ".py",
   "mimetype": "text/x-python",
   "name": "python",
   "nbconvert_exporter": "python",
   "pygments_lexer": "ipython3",
   "version": "3.12.7"
  }
 },
 "nbformat": 4,
 "nbformat_minor": 5
}
