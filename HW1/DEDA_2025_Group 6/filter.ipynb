{
 "cells": [
  {
   "cell_type": "code",
   "execution_count": 7,
   "id": "1c63cb01-1bcf-4b6a-95f9-35e03f58955a",
   "metadata": {},
   "outputs": [
    {
     "name": "stderr",
     "output_type": "stream",
     "text": [
      "C:\\Users\\Lenovo\\AppData\\Local\\Temp\\ipykernel_20468\\329691018.py:6: DeprecationWarning: The binary mode of fromstring is deprecated, as it behaves surprisingly on unicode inputs. Use frombuffer instead\n",
      "  image_int=np.fromstring(image_before.tobytes(), dtype=np.int8)\n"
     ]
    }
   ],
   "source": [
    "from PIL import Image\n",
    "from numpy.fft import fft,ifft\n",
    "import numpy as np\n",
    "\n",
    "image_before=Image.open('adefb056e4a178a6.jpg')\n",
    "image_int=np.fromstring(image_before.tobytes(), dtype=np.int8)\n",
    "fft_transformed=fft(image_int)\n",
    "fft_transformed=np.where(np.absolute(fft_transformed) < 9e4,0,fft_transformed)\n",
    "fft_transformed=ifft(fft_transformed)\n",
    "fft_transformed=np.int8(np.real(fft_transformed))\n",
    "image_output=Image.frombytes(image_before.mode, image_before.size, \n",
    "fft_transformed)\n",
    "image_output.show()\n",
    "\n",
    "output_path = 'filtered_image.png' \n",
    "image_output.save(output_path)"
   ]
  },
  {
   "cell_type": "code",
   "execution_count": null,
   "id": "96a0a912-6077-4da2-86f7-1a5c65db6c01",
   "metadata": {},
   "outputs": [],
   "source": []
  }
 ],
 "metadata": {
  "kernelspec": {
   "display_name": "Python 3 (ipykernel)",
   "language": "python",
   "name": "python3"
  },
  "language_info": {
   "codemirror_mode": {
    "name": "ipython",
    "version": 3
   },
   "file_extension": ".py",
   "mimetype": "text/x-python",
   "name": "python",
   "nbconvert_exporter": "python",
   "pygments_lexer": "ipython3",
   "version": "3.12.7"
  }
 },
 "nbformat": 4,
 "nbformat_minor": 5
}
