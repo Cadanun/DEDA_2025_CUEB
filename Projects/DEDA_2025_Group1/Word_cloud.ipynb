{
 "cells": [
  {
   "cell_type": "markdown",
   "id": "6a7a1466-76ef-45e8-8c79-7c81feeaad6d",
   "metadata": {},
   "source": [
    "生成词云图"
   ]
  },
  {
   "cell_type": "code",
   "execution_count": null,
   "id": "36292d53-a478-427c-8511-b437afaaf44d",
   "metadata": {},
   "outputs": [],
   "source": [
    "import numpy as np\n",
    "import pandas as pd\n",
    "from tqdm import tqdm\n",
    "from wordcloud import WordCloud\n",
    "import matplotlib.pyplot as plt"
   ]
  },
  {
   "cell_type": "code",
   "execution_count": null,
   "id": "a3c92f54-7fea-4122-9c57-b6ff6cd49510",
   "metadata": {},
   "outputs": [],
   "source": [
    "df = pd.read_csv('word2vec_txt.txt', delimiter='\\t', header=None)\n",
    "df"
   ]
  },
  {
   "cell_type": "code",
   "execution_count": null,
   "id": "f212b58d-a27c-453c-b80e-47c7add3efcc",
   "metadata": {},
   "outputs": [],
   "source": [
    "res = ''\n",
    "for i in tqdm(range(10000)):\n",
    "    random_int = np.random.randint(1, len(df))\n",
    "    if i == 0:\n",
    "        res += np.array(df.loc[random_int])\n",
    "    else:\n",
    "        res += ' ' + np.array(df.loc[random_int])\n",
    "res"
   ]
  },
  {
   "cell_type": "code",
   "execution_count": null,
   "id": "eb19b465-32c3-422b-a519-cdd04aa31189",
   "metadata": {},
   "outputs": [],
   "source": [
    "# 设置词云样式\n",
    "stopwords = ['有限公司','年月日','二级','周','简报','月度','月','年','的','在','等','和','与','及','或','日','将','了','为','新','关于',\n",
    "             '被','股','有','已','对','中','吗','于','至','成','家','向','仍','拟','来','后','不','是','还']\n",
    "# 生成词云图对象\n",
    "wordcloud = WordCloud(\n",
    "    width = 1600,\n",
    "    height = 1200,\n",
    "    background_color = 'white',\n",
    "    colormap = 'jet',\n",
    "    stopwords = stopwords,\n",
    "    font_path = 'SimHei.ttf'    # 设置中文字体路径\n",
    ").generate(res[0])\n",
    "\n",
    "# 显示词云图\n",
    "plt.imshow(wordcloud, interpolation='bilinear')\n",
    "plt.axis('off')\n",
    "plt.show()\n",
    "\n",
    "# 保存词云图\n",
    "wordcloud.to_file('word_cloud.png')"
   ]
  },
  {
   "cell_type": "code",
   "execution_count": null,
   "id": "ecd722b0-46b7-4ecb-a39a-4ce8920e3f94",
   "metadata": {},
   "outputs": [],
   "source": []
  }
 ],
 "metadata": {
  "kernelspec": {
   "display_name": "Python 3 (ipykernel)",
   "language": "python",
   "name": "python3"
  },
  "language_info": {
   "codemirror_mode": {
    "name": "ipython",
    "version": 3
   },
   "file_extension": ".py",
   "mimetype": "text/x-python",
   "name": "python",
   "nbconvert_exporter": "python",
   "pygments_lexer": "ipython3",
   "version": "3.12.7"
  }
 },
 "nbformat": 4,
 "nbformat_minor": 5
}
