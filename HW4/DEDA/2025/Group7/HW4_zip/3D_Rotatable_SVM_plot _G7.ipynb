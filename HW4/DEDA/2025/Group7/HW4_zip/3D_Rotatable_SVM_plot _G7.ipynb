{
 "cells": [
  {
   "cell_type": "code",
   "execution_count": 1,
   "id": "63b481df-72ec-44b1-aada-2491eb6b044c",
   "metadata": {},
   "outputs": [],
   "source": [
    "import numpy as np\n",
    "import matplotlib.pyplot as plt\n",
    "from mpl_toolkits.mplot3d import Axes3D\n",
    "from matplotlib.animation import FuncAnimation\n",
    "from IPython.display import HTML\n",
    "import plotly.graph_objects as go\n",
    "import plotly.io as pio\n",
    "\n",
    "# 生成数据\n",
    "np.random.seed(0)\n",
    "x1 = np.random.uniform(-2, 2, 100)\n",
    "x2 = np.random.uniform(-2, 2, 100)\n",
    "y = np.where(x2 > -0.5 * x1**2 + 1, 1, 0)\n",
    "\n",
    "# 转换函数\n",
    "def transform(x1, x2):\n",
    "    z1 = x1**2\n",
    "    z2 = np.sqrt(2) * x1 * x2\n",
    "    z3 = x2**2\n",
    "    return z1, z2, z3\n",
    "\n",
    "z1, z2, z3 = transform(x1, x2)\n",
    "\n",
    "# 使用plotly创建交互式3D图\n",
    "fig = go.Figure(data=[go.Scatter3d(\n",
    "    x=z1,\n",
    "    y=z2,\n",
    "    z=z3,\n",
    "    mode='markers',\n",
    "    marker=dict(\n",
    "        size=5,\n",
    "        color=y,\n",
    "        colorscale='Viridis',\n",
    "        opacity=0.8\n",
    "    )\n",
    ")])\n",
    "\n",
    "# 设置布局\n",
    "fig.update_layout(\n",
    "    title='3D Data Transformation (可旋转)',\n",
    "    scene=dict(\n",
    "        xaxis_title='z1',\n",
    "        yaxis_title='z2',\n",
    "        zaxis_title='z3'\n",
    "    ),\n",
    "    width=800,\n",
    "    height=600\n",
    ")\n",
    "\n",
    "# 导出为HTML\n",
    "pio.write_html(fig, file='3d_plot.html', auto_open=True)"
   ]
  },
  {
   "cell_type": "code",
   "execution_count": null,
   "id": "8f69af51-6a4f-4e40-a642-32ef70c87c6f",
   "metadata": {},
   "outputs": [],
   "source": []
  }
 ],
 "metadata": {
  "kernelspec": {
   "display_name": "Python 3 (ipykernel)",
   "language": "python",
   "name": "python3"
  },
  "language_info": {
   "codemirror_mode": {
    "name": "ipython",
    "version": 3
   },
   "file_extension": ".py",
   "mimetype": "text/x-python",
   "name": "python",
   "nbconvert_exporter": "python",
   "pygments_lexer": "ipython3",
   "version": "3.12.7"
  }
 },
 "nbformat": 4,
 "nbformat_minor": 5
}
