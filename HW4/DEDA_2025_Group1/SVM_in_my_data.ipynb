{
 "cells": [
  {
   "cell_type": "code",
   "execution_count": 9,
   "id": "03b5ba05-6dc7-43d1-9d15-86acf2d8d5d6",
   "metadata": {},
   "outputs": [
    {
     "name": "stdout",
     "output_type": "stream",
     "text": [
      "Separating plane set at z3 = 0.91\n",
      "Generating SVM 3D MOV animation...\n",
      "MOV file saved to: svm_3d_in_my_data.mov\n"
     ]
    }
   ],
   "source": [
    "import pandas as pd\n",
    "import numpy as np\n",
    "import matplotlib.pyplot as plt\n",
    "from matplotlib.animation import FuncAnimation, FFMpegWriter\n",
    "from mpl_toolkits.mplot3d import Axes3D\n",
    "\n",
    "# =============== Read data from xlsx ===============\n",
    "df = pd.read_excel('svm_sample_data.xlsx')  # 确保路径指向你的xlsx文件\n",
    "\n",
    "X = df[['feature1', 'feature2']].values\n",
    "y = df['label'].values\n",
    "\n",
    "# =============== Map to 3D feature space ===============\n",
    "def phi(x):\n",
    "    x1, x2 = x\n",
    "    return np.array([x1**2, np.sqrt(2)*x1*x2, x2**2])\n",
    "\n",
    "Z = np.array([phi(x) for x in X])\n",
    "z1, z2, z3 = Z[:,0], Z[:,1], Z[:,2]\n",
    "\n",
    "# =============== Plot ===============\n",
    "fig = plt.figure(figsize=(10, 8))\n",
    "ax = fig.add_subplot(111, projection='3d')\n",
    "\n",
    "# Plot two classes\n",
    "ax.scatter(z1[y==0], z2[y==0], z3[y==0], c='blue', label='Class 0')\n",
    "ax.scatter(z1[y==1], z2[y==1], z3[y==1], c='red', label='Class 1')\n",
    "\n",
    "# Compute the mean z3 values of two classes\n",
    "z3_class0_mean = z3[y==0].mean()\n",
    "z3_class1_mean = z3[y==1].mean()\n",
    "\n",
    "# Set the separating hyperplane at the midpoint\n",
    "z3_plane = (z3_class0_mean + z3_class1_mean) / 2\n",
    "print(f\"Separating plane set at z3 = {z3_plane:.2f}\")\n",
    "\n",
    "# Generate the plane\n",
    "xx, yy = np.meshgrid(np.linspace(z1.min(), z1.max(), 10),\n",
    "                     np.linspace(z2.min(), z2.max(), 10))\n",
    "zz = z3_plane * np.ones_like(xx)\n",
    "ax.plot_surface(xx, yy, zz, alpha=0.3, color='grey')\n",
    "\n",
    "# Labels and title\n",
    "ax.set_xlabel('$z_1$', fontsize=12)\n",
    "ax.set_ylabel('$z_2$', fontsize=12)\n",
    "ax.set_zlabel('$z_3$', fontsize=12)\n",
    "ax.legend()\n",
    "\n",
    "# =============== Animation function ===============\n",
    "def rotate(angle):\n",
    "    ax.view_init(elev=20, azim=angle)\n",
    "    return fig,\n",
    "\n",
    "ani = FuncAnimation(fig, rotate,\n",
    "                    frames=np.arange(0, 360, 2),\n",
    "                    interval=50, blit=False)\n",
    "\n",
    "# =============== Save MOV file ===============\n",
    "mov_path = 'svm_3d_in_my_data.mov'\n",
    "print(\"Generating SVM 3D MOV animation...\")\n",
    "writer = FFMpegWriter(fps=15, metadata=dict(artist='SVM 3D'), bitrate=1800)\n",
    "ani.save(mov_path, writer=writer, dpi=100)\n",
    "print(f\"MOV file saved to: {mov_path}\")\n",
    "\n",
    "plt.close(fig)"
   ]
  },
  {
   "cell_type": "code",
   "execution_count": null,
   "id": "69ca6a6f-945f-4eb8-ad12-efe35546f7aa",
   "metadata": {},
   "outputs": [],
   "source": []
  }
 ],
 "metadata": {
  "kernelspec": {
   "display_name": "Python 3 (ipykernel)",
   "language": "python",
   "name": "python3"
  },
  "language_info": {
   "codemirror_mode": {
    "name": "ipython",
    "version": 3
   },
   "file_extension": ".py",
   "mimetype": "text/x-python",
   "name": "python",
   "nbconvert_exporter": "python",
   "pygments_lexer": "ipython3",
   "version": "3.12.7"
  }
 },
 "nbformat": 4,
 "nbformat_minor": 5
}
